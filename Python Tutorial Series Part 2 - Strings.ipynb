{
 "cells": [
  {
   "cell_type": "code",
   "execution_count": 2,
   "id": "fd777041",
   "metadata": {},
   "outputs": [],
   "source": [
    "x = \"Hello Python!\""
   ]
  },
  {
   "cell_type": "code",
   "execution_count": 3,
   "id": "3518b5c6",
   "metadata": {},
   "outputs": [],
   "source": [
    "y = 'Hello Python!'"
   ]
  },
  {
   "cell_type": "code",
   "execution_count": 4,
   "id": "f46c4672",
   "metadata": {},
   "outputs": [
    {
     "data": {
      "text/plain": [
       "'Hello Python!'"
      ]
     },
     "execution_count": 4,
     "metadata": {},
     "output_type": "execute_result"
    }
   ],
   "source": [
    "y"
   ]
  },
  {
   "cell_type": "code",
   "execution_count": 5,
   "id": "0f3c2ee9",
   "metadata": {},
   "outputs": [
    {
     "data": {
      "text/plain": [
       "str"
      ]
     },
     "execution_count": 5,
     "metadata": {},
     "output_type": "execute_result"
    }
   ],
   "source": [
    "type(x)"
   ]
  },
  {
   "cell_type": "code",
   "execution_count": 6,
   "id": "d50ca601",
   "metadata": {},
   "outputs": [
    {
     "data": {
      "text/plain": [
       "str"
      ]
     },
     "execution_count": 6,
     "metadata": {},
     "output_type": "execute_result"
    }
   ],
   "source": [
    "type(y)"
   ]
  },
  {
   "cell_type": "code",
   "execution_count": 7,
   "id": "d4705635",
   "metadata": {},
   "outputs": [
    {
     "name": "stdout",
     "output_type": "stream",
     "text": [
      "Hello Python!\n"
     ]
    }
   ],
   "source": [
    "print(x)"
   ]
  },
  {
   "cell_type": "code",
   "execution_count": 8,
   "id": "7f15540a",
   "metadata": {},
   "outputs": [
    {
     "data": {
      "text/plain": [
       "'H'"
      ]
     },
     "execution_count": 8,
     "metadata": {},
     "output_type": "execute_result"
    }
   ],
   "source": [
    "x[0]"
   ]
  },
  {
   "cell_type": "code",
   "execution_count": 9,
   "id": "b17178f1",
   "metadata": {},
   "outputs": [
    {
     "data": {
      "text/plain": [
       "13"
      ]
     },
     "execution_count": 9,
     "metadata": {},
     "output_type": "execute_result"
    }
   ],
   "source": [
    "len(x)"
   ]
  },
  {
   "cell_type": "code",
   "execution_count": 10,
   "id": "d1712f50",
   "metadata": {},
   "outputs": [
    {
     "data": {
      "text/plain": [
       "'!'"
      ]
     },
     "execution_count": 10,
     "metadata": {},
     "output_type": "execute_result"
    }
   ],
   "source": [
    "x[12]"
   ]
  },
  {
   "cell_type": "code",
   "execution_count": 11,
   "id": "f66e890a",
   "metadata": {},
   "outputs": [
    {
     "data": {
      "text/plain": [
       "'Hell'"
      ]
     },
     "execution_count": 11,
     "metadata": {},
     "output_type": "execute_result"
    }
   ],
   "source": [
    "# We can index a string from 0 to len(x) -1\n",
    "x[0:4]"
   ]
  },
  {
   "cell_type": "code",
   "execution_count": 12,
   "id": "b9decec5",
   "metadata": {},
   "outputs": [
    {
     "data": {
      "text/plain": [
       "'Hello Python!'"
      ]
     },
     "execution_count": 12,
     "metadata": {},
     "output_type": "execute_result"
    }
   ],
   "source": [
    "x"
   ]
  },
  {
   "cell_type": "code",
   "execution_count": 13,
   "id": "305f2ff7",
   "metadata": {},
   "outputs": [
    {
     "data": {
      "text/plain": [
       "'HloPt'"
      ]
     },
     "execution_count": 13,
     "metadata": {},
     "output_type": "execute_result"
    }
   ],
   "source": [
    "x[0:10:2]"
   ]
  },
  {
   "cell_type": "code",
   "execution_count": 14,
   "id": "a6adc940",
   "metadata": {},
   "outputs": [
    {
     "data": {
      "text/plain": [
       "'HlPh!'"
      ]
     },
     "execution_count": 14,
     "metadata": {},
     "output_type": "execute_result"
    }
   ],
   "source": [
    "x[0:13:3]"
   ]
  },
  {
   "cell_type": "code",
   "execution_count": 15,
   "id": "f62577c8",
   "metadata": {},
   "outputs": [
    {
     "ename": "TypeError",
     "evalue": "'str' object does not support item assignment",
     "output_type": "error",
     "traceback": [
      "\u001b[1;31m---------------------------------------------------------------------------\u001b[0m",
      "\u001b[1;31mTypeError\u001b[0m                                 Traceback (most recent call last)",
      "\u001b[1;32m<ipython-input-15-b7c2721d1eeb>\u001b[0m in \u001b[0;36m<module>\u001b[1;34m\u001b[0m\n\u001b[0;32m      1\u001b[0m \u001b[1;31m# Strings are immutable - You cannot change them!\u001b[0m\u001b[1;33m\u001b[0m\u001b[1;33m\u001b[0m\u001b[0m\n\u001b[1;32m----> 2\u001b[1;33m \u001b[0mx\u001b[0m\u001b[1;33m[\u001b[0m\u001b[1;36m3\u001b[0m\u001b[1;33m]\u001b[0m \u001b[1;33m=\u001b[0m \u001b[1;34m'A'\u001b[0m\u001b[1;33m\u001b[0m\u001b[1;33m\u001b[0m\u001b[0m\n\u001b[0m",
      "\u001b[1;31mTypeError\u001b[0m: 'str' object does not support item assignment"
     ]
    }
   ],
   "source": [
    "# Strings are immutable - You cannot change them!\n",
    "x[3] = 'A'"
   ]
  },
  {
   "cell_type": "code",
   "execution_count": null,
   "id": "54788a7b",
   "metadata": {},
   "outputs": [],
   "source": [
    "x = \"Hello World\""
   ]
  },
  {
   "cell_type": "code",
   "execution_count": null,
   "id": "9d32ab8f",
   "metadata": {},
   "outputs": [],
   "source": [
    "x[0] = '3'"
   ]
  },
  {
   "cell_type": "code",
   "execution_count": null,
   "id": "96a02961",
   "metadata": {},
   "outputs": [],
   "source": [
    "x"
   ]
  },
  {
   "cell_type": "code",
   "execution_count": 19,
   "id": "56360b41",
   "metadata": {},
   "outputs": [
    {
     "data": {
      "text/plain": [
       "'!'"
      ]
     },
     "execution_count": 19,
     "metadata": {},
     "output_type": "execute_result"
    }
   ],
   "source": [
    "x[-1]"
   ]
  },
  {
   "cell_type": "code",
   "execution_count": 20,
   "id": "273897d3",
   "metadata": {},
   "outputs": [
    {
     "data": {
      "text/plain": [
       "'Hello Py'"
      ]
     },
     "execution_count": 20,
     "metadata": {},
     "output_type": "execute_result"
    }
   ],
   "source": [
    "x[-13:-5]"
   ]
  },
  {
   "cell_type": "code",
   "execution_count": 21,
   "id": "2b10a7a5",
   "metadata": {},
   "outputs": [
    {
     "data": {
      "text/plain": [
       "'Hello Python!'"
      ]
     },
     "execution_count": 21,
     "metadata": {},
     "output_type": "execute_result"
    }
   ],
   "source": [
    "x[::]"
   ]
  },
  {
   "cell_type": "code",
   "execution_count": 22,
   "id": "e7cdd1a2",
   "metadata": {},
   "outputs": [
    {
     "data": {
      "text/plain": [
       "'!nohtyP olleH'"
      ]
     },
     "execution_count": 22,
     "metadata": {},
     "output_type": "execute_result"
    }
   ],
   "source": [
    "x[::-1]"
   ]
  },
  {
   "cell_type": "code",
   "execution_count": 23,
   "id": "c1eb2671",
   "metadata": {},
   "outputs": [
    {
     "data": {
      "text/plain": [
       "13"
      ]
     },
     "execution_count": 23,
     "metadata": {},
     "output_type": "execute_result"
    }
   ],
   "source": [
    "len(x)"
   ]
  },
  {
   "cell_type": "code",
   "execution_count": 25,
   "id": "f93bc5f8",
   "metadata": {},
   "outputs": [
    {
     "data": {
      "text/plain": [
       "'Hello Python!'"
      ]
     },
     "execution_count": 25,
     "metadata": {},
     "output_type": "execute_result"
    }
   ],
   "source": [
    "x"
   ]
  },
  {
   "cell_type": "code",
   "execution_count": 26,
   "id": "976486fa",
   "metadata": {},
   "outputs": [
    {
     "data": {
      "text/plain": [
       "'HELLO PYTHON!'"
      ]
     },
     "execution_count": 26,
     "metadata": {},
     "output_type": "execute_result"
    }
   ],
   "source": [
    "x.upper()"
   ]
  },
  {
   "cell_type": "code",
   "execution_count": 27,
   "id": "ecedaf63",
   "metadata": {},
   "outputs": [
    {
     "data": {
      "text/plain": [
       "'hello python!'"
      ]
     },
     "execution_count": 27,
     "metadata": {},
     "output_type": "execute_result"
    }
   ],
   "source": [
    "x.lower()"
   ]
  },
  {
   "cell_type": "code",
   "execution_count": 30,
   "id": "5b69c82f",
   "metadata": {},
   "outputs": [
    {
     "data": {
      "text/plain": [
       "['Hello', 'Python!']"
      ]
     },
     "execution_count": 30,
     "metadata": {},
     "output_type": "execute_result"
    }
   ],
   "source": [
    "x.split()"
   ]
  },
  {
   "cell_type": "code",
   "execution_count": 31,
   "id": "6d8368b1",
   "metadata": {},
   "outputs": [],
   "source": [
    "y = 'This is actually very important | this is an important course, Python is interesting'"
   ]
  },
  {
   "cell_type": "code",
   "execution_count": 34,
   "id": "26b52395",
   "metadata": {},
   "outputs": [
    {
     "data": {
      "text/plain": [
       "['This',\n",
       " 'is',\n",
       " 'actually',\n",
       " 'very',\n",
       " 'important',\n",
       " '|',\n",
       " 'this',\n",
       " 'is',\n",
       " 'an',\n",
       " 'important',\n",
       " 'course,',\n",
       " 'Python',\n",
       " 'is',\n",
       " 'interesting']"
      ]
     },
     "execution_count": 34,
     "metadata": {},
     "output_type": "execute_result"
    }
   ],
   "source": [
    "y.split()"
   ]
  },
  {
   "cell_type": "code",
   "execution_count": 35,
   "id": "9d717923",
   "metadata": {},
   "outputs": [
    {
     "data": {
      "text/plain": [
       "['This is actually very important | this is an important course',\n",
       " ' Python is interesting']"
      ]
     },
     "execution_count": 35,
     "metadata": {},
     "output_type": "execute_result"
    }
   ],
   "source": [
    "y.split(',')"
   ]
  },
  {
   "cell_type": "code",
   "execution_count": 36,
   "id": "8bb8cf7e",
   "metadata": {},
   "outputs": [
    {
     "data": {
      "text/plain": [
       "['This is actually very important ',\n",
       " ' this is an important course, Python is interesting']"
      ]
     },
     "execution_count": 36,
     "metadata": {},
     "output_type": "execute_result"
    }
   ],
   "source": [
    "y.split('|')"
   ]
  },
  {
   "cell_type": "code",
   "execution_count": 38,
   "id": "bb42c1ac",
   "metadata": {},
   "outputs": [],
   "source": [
    "z = x + y"
   ]
  },
  {
   "cell_type": "code",
   "execution_count": 39,
   "id": "16591943",
   "metadata": {},
   "outputs": [
    {
     "data": {
      "text/plain": [
       "6"
      ]
     },
     "execution_count": 39,
     "metadata": {},
     "output_type": "execute_result"
    }
   ],
   "source": [
    "z.lower().find('python',0, len(z))"
   ]
  },
  {
   "cell_type": "code",
   "execution_count": 45,
   "id": "649ede63",
   "metadata": {},
   "outputs": [
    {
     "data": {
      "text/plain": [
       "'Python'"
      ]
     },
     "execution_count": 45,
     "metadata": {},
     "output_type": "execute_result"
    }
   ],
   "source": [
    "z[6:12:1]"
   ]
  },
  {
   "cell_type": "code",
   "execution_count": 46,
   "id": "f70374bf",
   "metadata": {},
   "outputs": [
    {
     "name": "stdout",
     "output_type": "stream",
     "text": [
      "Hello Python!This is actually very important | this is an important course, Python is interesting\n"
     ]
    }
   ],
   "source": [
    "print(z)"
   ]
  },
  {
   "cell_type": "code",
   "execution_count": 47,
   "id": "d45c7d6e",
   "metadata": {},
   "outputs": [
    {
     "name": "stdout",
     "output_type": "stream",
     "text": [
      "Hello Python!\n",
      "This is actually very important | this is an important course, Python is interesting\n"
     ]
    }
   ],
   "source": [
    "print(x + '\\n' + y)"
   ]
  },
  {
   "cell_type": "code",
   "execution_count": 48,
   "id": "16c09f00",
   "metadata": {},
   "outputs": [
    {
     "name": "stdout",
     "output_type": "stream",
     "text": [
      "Hello Python!\tThis is actually very important | this is an important course, Python is interesting\n"
     ]
    }
   ],
   "source": [
    "print(x + '\\t' + y)"
   ]
  },
  {
   "cell_type": "code",
   "execution_count": 51,
   "id": "c7bf60b1",
   "metadata": {},
   "outputs": [
    {
     "name": "stdout",
     "output_type": "stream",
     "text": [
      "Learning Python is interesting and fun. \n"
     ]
    }
   ],
   "source": [
    "print('Learning Python is {b} and {a}. '.format(a='fun',b='interesting'))"
   ]
  },
  {
   "cell_type": "code",
   "execution_count": 52,
   "id": "80e496c1",
   "metadata": {},
   "outputs": [
    {
     "name": "stdout",
     "output_type": "stream",
     "text": [
      " Hello Python! Learning Python is interesting and fun. \n"
     ]
    }
   ],
   "source": [
    "print(' {c} Learning Python is {b} and {a}. '.format(c = x, a='fun',b='interesting'))\n"
   ]
  },
  {
   "cell_type": "code",
   "execution_count": 53,
   "id": "31903bfc",
   "metadata": {},
   "outputs": [],
   "source": [
    "b = 1.45689"
   ]
  },
  {
   "cell_type": "code",
   "execution_count": 57,
   "id": "e8269555",
   "metadata": {},
   "outputs": [
    {
     "name": "stdout",
     "output_type": "stream",
     "text": [
      "This is an example of inserting number       1.46\n"
     ]
    }
   ],
   "source": [
    "# value:distance.precision\n",
    "print('This is an example of inserting number {x:10.2f}'.format(x=b))"
   ]
  },
  {
   "cell_type": "code",
   "execution_count": 63,
   "id": "b0b39c8b",
   "metadata": {},
   "outputs": [],
   "source": [
    "# lower\n",
    "# upper\n",
    "# len\n",
    "# find\n",
    "# \\n and \\t\n",
    "# print with format function\n"
   ]
  },
  {
   "cell_type": "code",
   "execution_count": null,
   "id": "5d2559bd",
   "metadata": {},
   "outputs": [],
   "source": []
  }
 ],
 "metadata": {
  "kernelspec": {
   "display_name": "Python 3 (ipykernel)",
   "language": "python",
   "name": "python3"
  },
  "language_info": {
   "codemirror_mode": {
    "name": "ipython",
    "version": 3
   },
   "file_extension": ".py",
   "mimetype": "text/x-python",
   "name": "python",
   "nbconvert_exporter": "python",
   "pygments_lexer": "ipython3",
   "version": "3.9.7"
  }
 },
 "nbformat": 4,
 "nbformat_minor": 5
}
