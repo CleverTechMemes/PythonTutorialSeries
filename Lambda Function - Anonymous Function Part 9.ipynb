{
 "cells": [
  {
   "cell_type": "code",
   "execution_count": 4,
   "id": "c89215bb",
   "metadata": {},
   "outputs": [
    {
     "data": {
      "text/plain": [
       "'even'"
      ]
     },
     "execution_count": 4,
     "metadata": {},
     "output_type": "execute_result"
    }
   ],
   "source": [
    "def customFunc(x):\n",
    "    \n",
    "    if x % 2 == 0:\n",
    "        return 'even'\n",
    "    else:\n",
    "        return 'odd'\n",
    "    \n",
    "customFunc(6)"
   ]
  },
  {
   "cell_type": "code",
   "execution_count": 6,
   "id": "2f641a0b",
   "metadata": {},
   "outputs": [
    {
     "data": {
      "text/plain": [
       "'even'"
      ]
     },
     "execution_count": 6,
     "metadata": {},
     "output_type": "execute_result"
    }
   ],
   "source": [
    "customFunc2 = lambda x: 'even' if x % 2 == 0 else 'odd'\n",
    "\n",
    "customFunc2(6)"
   ]
  },
  {
   "cell_type": "code",
   "execution_count": 7,
   "id": "243533b9",
   "metadata": {},
   "outputs": [
    {
     "data": {
      "text/plain": [
       "125"
      ]
     },
     "execution_count": 7,
     "metadata": {},
     "output_type": "execute_result"
    }
   ],
   "source": [
    "def custom_pow(x, y):\n",
    "    \n",
    "    return x ** y\n",
    "\n",
    "custom_pow(5,3)"
   ]
  },
  {
   "cell_type": "code",
   "execution_count": 8,
   "id": "c2a486f0",
   "metadata": {},
   "outputs": [
    {
     "data": {
      "text/plain": [
       "125"
      ]
     },
     "execution_count": 8,
     "metadata": {},
     "output_type": "execute_result"
    }
   ],
   "source": [
    "custom_pow2 = lambda x, y: x ** y\n",
    "\n",
    "custom_pow2(5,3)"
   ]
  },
  {
   "cell_type": "code",
   "execution_count": null,
   "id": "c1471e4f",
   "metadata": {},
   "outputs": [],
   "source": []
  }
 ],
 "metadata": {
  "kernelspec": {
   "display_name": "Python 3 (ipykernel)",
   "language": "python",
   "name": "python3"
  },
  "language_info": {
   "codemirror_mode": {
    "name": "ipython",
    "version": 3
   },
   "file_extension": ".py",
   "mimetype": "text/x-python",
   "name": "python",
   "nbconvert_exporter": "python",
   "pygments_lexer": "ipython3",
   "version": "3.9.7"
  }
 },
 "nbformat": 4,
 "nbformat_minor": 5
}
