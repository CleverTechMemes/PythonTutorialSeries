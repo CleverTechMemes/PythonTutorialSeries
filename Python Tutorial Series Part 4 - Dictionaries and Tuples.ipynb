{
 "cells": [
  {
   "cell_type": "markdown",
   "id": "084234fd",
   "metadata": {},
   "source": [
    "## What are dictionaries and how to define them"
   ]
  },
  {
   "cell_type": "code",
   "execution_count": 25,
   "id": "8e4f92ab",
   "metadata": {},
   "outputs": [],
   "source": [
    "customDict = {'c++': 10, 'python':9, 'scala': 11, 'java':8}"
   ]
  },
  {
   "cell_type": "code",
   "execution_count": 26,
   "id": "f04d5b1c",
   "metadata": {},
   "outputs": [],
   "source": [
    "# we cannot order the items in a dictionary"
   ]
  },
  {
   "cell_type": "code",
   "execution_count": 27,
   "id": "83b351cb",
   "metadata": {},
   "outputs": [
    {
     "data": {
      "text/plain": [
       "4"
      ]
     },
     "execution_count": 27,
     "metadata": {},
     "output_type": "execute_result"
    }
   ],
   "source": [
    "len(customDict)"
   ]
  },
  {
   "cell_type": "code",
   "execution_count": 28,
   "id": "8068db0a",
   "metadata": {},
   "outputs": [
    {
     "data": {
      "text/plain": [
       "dict"
      ]
     },
     "execution_count": 28,
     "metadata": {},
     "output_type": "execute_result"
    }
   ],
   "source": [
    "type(customDict)"
   ]
  },
  {
   "cell_type": "code",
   "execution_count": 29,
   "id": "e8399a75",
   "metadata": {},
   "outputs": [
    {
     "name": "stdout",
     "output_type": "stream",
     "text": [
      "{'c++': 10, 'python': 9, 'scala': 11, 'java': 8}\n"
     ]
    }
   ],
   "source": [
    "## Cannot hold duplicates\n",
    "customDict = {'c++': 10, 'python':9, 'scala': 11, 'java':8, 'java':8}\n",
    "print(customDict)"
   ]
  },
  {
   "cell_type": "markdown",
   "id": "0a59a83b",
   "metadata": {},
   "source": [
    "## How to Index them"
   ]
  },
  {
   "cell_type": "code",
   "execution_count": 30,
   "id": "651c9fc1",
   "metadata": {},
   "outputs": [
    {
     "name": "stdout",
     "output_type": "stream",
     "text": [
      "10\n",
      "10\n"
     ]
    }
   ],
   "source": [
    "print(customDict['c++'])\n",
    "print(customDict.get('c++'))"
   ]
  },
  {
   "cell_type": "markdown",
   "id": "06f27f5c",
   "metadata": {},
   "source": [
    "##  Useful Methods in Dictionaries"
   ]
  },
  {
   "cell_type": "code",
   "execution_count": 31,
   "id": "88365f72",
   "metadata": {},
   "outputs": [
    {
     "name": "stdout",
     "output_type": "stream",
     "text": [
      "{'c++': 10, 'python': 9, 'scala': 11, 'java': 8}\n",
      "dict_keys(['c++', 'python', 'scala', 'java'])\n",
      "dict_values([10, 9, 11, 8])\n",
      "{'c++': 10, 'python': 9, 'scala': 11, 'java': 8}\n"
     ]
    }
   ],
   "source": [
    "print(customDict)\n",
    "print(customDict.keys())\n",
    "print(customDict.values())\n",
    "print(str(customDict))"
   ]
  },
  {
   "cell_type": "code",
   "execution_count": 32,
   "id": "3448b4b7",
   "metadata": {},
   "outputs": [
    {
     "name": "stdout",
     "output_type": "stream",
     "text": [
      "{'python': 9, 'scala': 11, 'java': 8}\n"
     ]
    }
   ],
   "source": [
    "# removing an item\n",
    "customDict.pop('c++')\n",
    "print(customDict)"
   ]
  },
  {
   "cell_type": "code",
   "execution_count": 34,
   "id": "eba3058e",
   "metadata": {},
   "outputs": [
    {
     "name": "stdout",
     "output_type": "stream",
     "text": [
      "{'python': 9, 'scala': 11, 'java': 8, 'c++': 10}\n"
     ]
    }
   ],
   "source": [
    "customDict.update({'c++':10})\n",
    "print(customDict)"
   ]
  },
  {
   "cell_type": "markdown",
   "id": "d2b74abb",
   "metadata": {},
   "source": [
    "## For Loops on Dictionaries"
   ]
  },
  {
   "cell_type": "code",
   "execution_count": 39,
   "id": "0c41fafd",
   "metadata": {},
   "outputs": [
    {
     "name": "stdout",
     "output_type": "stream",
     "text": [
      "<class 'tuple'>\n",
      "('python', 9)\n",
      "<class 'tuple'>\n",
      "('scala', 11)\n",
      "<class 'tuple'>\n",
      "('java', 8)\n",
      "<class 'tuple'>\n",
      "('c++', 10)\n"
     ]
    }
   ],
   "source": [
    "# iterating over dictionaries with tuples\n",
    "for item in customDict.items():\n",
    "    print(type(item))\n",
    "    print(item)"
   ]
  },
  {
   "cell_type": "code",
   "execution_count": 50,
   "id": "38d801ec",
   "metadata": {},
   "outputs": [
    {
     "data": {
      "text/plain": [
       "200"
      ]
     },
     "execution_count": 50,
     "metadata": {},
     "output_type": "execute_result"
    }
   ],
   "source": [
    "# Tuples are immutable collections\n",
    "customTuple = (1,2, 100, 20, 2, 1, 100, 200)\n",
    "max(customTuple)\n"
   ]
  },
  {
   "cell_type": "code",
   "execution_count": 48,
   "id": "c9319ee5",
   "metadata": {},
   "outputs": [
    {
     "ename": "TypeError",
     "evalue": "'tuple' object does not support item assignment",
     "output_type": "error",
     "traceback": [
      "\u001b[1;31m---------------------------------------------------------------------------\u001b[0m",
      "\u001b[1;31mTypeError\u001b[0m                                 Traceback (most recent call last)",
      "\u001b[1;32m<ipython-input-48-67feaa820078>\u001b[0m in \u001b[0;36m<module>\u001b[1;34m\u001b[0m\n\u001b[1;32m----> 1\u001b[1;33m \u001b[0mcustomTuple\u001b[0m\u001b[1;33m[\u001b[0m\u001b[1;36m0\u001b[0m\u001b[1;33m]\u001b[0m \u001b[1;33m=\u001b[0m \u001b[1;36m10\u001b[0m \u001b[1;31m# tuples are immutable\u001b[0m\u001b[1;33m\u001b[0m\u001b[1;33m\u001b[0m\u001b[0m\n\u001b[0m",
      "\u001b[1;31mTypeError\u001b[0m: 'tuple' object does not support item assignment"
     ]
    }
   ],
   "source": [
    "customTuple[0] = 10 # tuples are immutable"
   ]
  },
  {
   "cell_type": "code",
   "execution_count": 52,
   "id": "afe46994",
   "metadata": {},
   "outputs": [
    {
     "data": {
      "text/plain": [
       "2"
      ]
     },
     "execution_count": 52,
     "metadata": {},
     "output_type": "execute_result"
    }
   ],
   "source": [
    "customTuple.count(1)"
   ]
  },
  {
   "cell_type": "code",
   "execution_count": 57,
   "id": "974aca90",
   "metadata": {},
   "outputs": [
    {
     "data": {
      "text/plain": [
       "2"
      ]
     },
     "execution_count": 57,
     "metadata": {},
     "output_type": "execute_result"
    }
   ],
   "source": [
    "myTuple = ('Hello','python','python','is','interesting')\n",
    "myTuple.count('python') \n",
    "# Tuples are advanced data collections in python and \n",
    "# you'll use them only when you donot want that the values change over your program"
   ]
  },
  {
   "cell_type": "code",
   "execution_count": 61,
   "id": "1c8bd937",
   "metadata": {},
   "outputs": [
    {
     "name": "stdout",
     "output_type": "stream",
     "text": [
      "9\n",
      "11\n",
      "8\n",
      "10\n",
      "---------------------------\n",
      "python\n",
      "scala\n",
      "java\n",
      "c++\n"
     ]
    }
   ],
   "source": [
    "for item in customDict.values():\n",
    "    print(item)\n",
    "    \n",
    "print('---------------------------')    \n",
    "    \n",
    "for item in customDict.keys():\n",
    "    print(item)"
   ]
  },
  {
   "cell_type": "markdown",
   "id": "1263468a",
   "metadata": {},
   "source": [
    "## Checking condition in dictionaries"
   ]
  },
  {
   "cell_type": "code",
   "execution_count": 66,
   "id": "00836332",
   "metadata": {},
   "outputs": [
    {
     "name": "stdout",
     "output_type": "stream",
     "text": [
      "it is!\n"
     ]
    }
   ],
   "source": [
    "if 'java' in customDict:\n",
    "    print('it is!')\n",
    "else:\n",
    "    \n",
    "    print('it is not!')\n",
    "    "
   ]
  },
  {
   "cell_type": "code",
   "execution_count": null,
   "id": "18d861b1",
   "metadata": {},
   "outputs": [],
   "source": []
  }
 ],
 "metadata": {
  "kernelspec": {
   "display_name": "Python 3 (ipykernel)",
   "language": "python",
   "name": "python3"
  },
  "language_info": {
   "codemirror_mode": {
    "name": "ipython",
    "version": 3
   },
   "file_extension": ".py",
   "mimetype": "text/x-python",
   "name": "python",
   "nbconvert_exporter": "python",
   "pygments_lexer": "ipython3",
   "version": "3.9.7"
  }
 },
 "nbformat": 4,
 "nbformat_minor": 5
}
